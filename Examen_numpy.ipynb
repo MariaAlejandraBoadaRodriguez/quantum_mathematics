{
 "cells": [
  {
   "cell_type": "code",
   "execution_count": 3,
   "metadata": {},
   "outputs": [],
   "source": [
    "import numpy as np"
   ]
  },
  {
   "cell_type": "code",
   "execution_count": 37,
   "metadata": {},
   "outputs": [
    {
     "name": "stdout",
     "output_type": "stream",
     "text": [
      "Compuerta X\n",
      "[[0 1]\n",
      " [1 0]]\n",
      "Compuerta Y\n",
      "[[ 0.+0.j -0.-1.j]\n",
      " [ 0.+1.j  0.+0.j]]\n",
      "Compuerta Z\n",
      "[[ 1  0]\n",
      " [ 0 -1]]\n",
      "Compuerta H\n",
      "[[ 0.70710678  0.70710678]\n",
      " [ 0.70710678 -0.70710678]]\n",
      "Compuerta I\n",
      "[[1 0]\n",
      " [0 1]]\n",
      "Compuerta T\n",
      "[[1.         0.        ]\n",
      " [0.         0.78539816]]\n"
     ]
    }
   ],
   "source": [
    "# Matriz X (compuerta Pauli-X)\n",
    "x = np.array([[0, 1], \n",
    "              [1, 0]])\n",
    "\n",
    "# Matriz Y (compuerta Pauli-Y)\n",
    "y = np.array([[0, -1j], \n",
    "              [1j, 0]])\n",
    "\n",
    "# Matriz Z (compuerta Pauli-Z)\n",
    "z = np.array([[1, 0], \n",
    "              [0, -1]])\n",
    "\n",
    "# Matriz Hadamar\n",
    "h = 1/np.sqrt(2)*np.array([[1,1],\n",
    "                           [1,-1]]) \n",
    "\n",
    "# Matriz I (compuerta Pauli-Z)\n",
    "i = np.array([[1, 0], \n",
    "              [0, 1]])\n",
    "\n",
    "t = np.array([[1, 0], \n",
    "              [0, np.pi/4]])\n",
    "\n",
    "print(\"Compuerta X\")\n",
    "print(x)\n",
    "print(\"Compuerta Y\")\n",
    "print(y)\n",
    "print(\"Compuerta Z\")\n",
    "print(z)\n",
    "print(\"Compuerta H\")\n",
    "print(h)\n",
    "print(\"Compuerta I\")\n",
    "print(i)\n",
    "print(\"Compuerta T\")\n",
    "print(t)"
   ]
  },
  {
   "cell_type": "code",
   "execution_count": 5,
   "metadata": {},
   "outputs": [
    {
     "name": "stdout",
     "output_type": "stream",
     "text": [
      "[[0.8660254]\n",
      " [0.5      ]]\n"
     ]
    }
   ],
   "source": [
    "q0 = np.array([[np.sqrt(3)/2],\n",
    "               [1/2]])\n",
    "\n",
    "print(q0)"
   ]
  },
  {
   "cell_type": "code",
   "execution_count": 6,
   "metadata": {},
   "outputs": [
    {
     "name": "stdout",
     "output_type": "stream",
     "text": [
      "[[0.5      ]\n",
      " [0.8660254]]\n"
     ]
    }
   ],
   "source": [
    "# Se multiplica primero la compuerta y despúes el estado\n",
    "s1 = np.dot(x,q0)\n",
    "print(s1)"
   ]
  },
  {
   "cell_type": "code",
   "execution_count": 7,
   "metadata": {},
   "outputs": [
    {
     "name": "stdout",
     "output_type": "stream",
     "text": [
      "[[-0.8660254-0.j]\n",
      " [ 0.5      +0.j]]\n"
     ]
    }
   ],
   "source": [
    "s2 = np.dot(y, s1)*(1/1j)\n",
    "print(s2)"
   ]
  },
  {
   "cell_type": "code",
   "execution_count": 8,
   "metadata": {},
   "outputs": [
    {
     "name": "stdout",
     "output_type": "stream",
     "text": [
      "[[-0.8660254+0.j]\n",
      " [-0.5      +0.j]]\n"
     ]
    }
   ],
   "source": [
    "s3 = np.dot(z, s2)\n",
    "print(s3)"
   ]
  },
  {
   "cell_type": "code",
   "execution_count": 9,
   "metadata": {},
   "outputs": [
    {
     "name": "stdout",
     "output_type": "stream",
     "text": [
      "[[0.8660254-0.j]\n",
      " [0.5      -0.j]]\n"
     ]
    }
   ],
   "source": [
    "s3 = np.dot(z, s2)*-1\n",
    "print(s3)"
   ]
  },
  {
   "cell_type": "code",
   "execution_count": 10,
   "metadata": {},
   "outputs": [
    {
     "name": "stdout",
     "output_type": "stream",
     "text": [
      "[[0.96592583+0.j]\n",
      " [0.25881905+0.j]]\n"
     ]
    }
   ],
   "source": [
    "s4 = np.dot(h, s3)\n",
    "print(s4)"
   ]
  },
  {
   "cell_type": "code",
   "execution_count": 11,
   "metadata": {},
   "outputs": [
    {
     "name": "stdout",
     "output_type": "stream",
     "text": [
      "[[ 0.70710678 -0.70710678]\n",
      " [ 0.70710678  0.70710678]]\n"
     ]
    }
   ],
   "source": [
    "multiplicacion = np.dot(x,h)\n",
    "print(multiplicacion)"
   ]
  },
  {
   "cell_type": "code",
   "execution_count": 12,
   "metadata": {},
   "outputs": [
    {
     "name": "stdout",
     "output_type": "stream",
     "text": [
      "[[ 0.70710678  0.70710678]\n",
      " [-0.70710678  0.70710678]]\n"
     ]
    }
   ],
   "source": [
    "multiplicacion = np.dot(h,x)\n",
    "print(multiplicacion)"
   ]
  },
  {
   "cell_type": "code",
   "execution_count": 15,
   "metadata": {},
   "outputs": [
    {
     "name": "stdout",
     "output_type": "stream",
     "text": [
      "[[0 1]\n",
      " [1 0]]\n"
     ]
    }
   ],
   "source": [
    "q0 = np.array([[0,1],\n",
    "               [1,0]])\n",
    "\n",
    "print(q0)"
   ]
  },
  {
   "cell_type": "code",
   "execution_count": 16,
   "metadata": {},
   "outputs": [
    {
     "name": "stdout",
     "output_type": "stream",
     "text": [
      "[[1 0]\n",
      " [0 1]]\n"
     ]
    }
   ],
   "source": [
    "negacion = np.dot(q0,x)\n",
    "print(negacion)"
   ]
  },
  {
   "cell_type": "code",
   "execution_count": 19,
   "metadata": {},
   "outputs": [
    {
     "name": "stdout",
     "output_type": "stream",
     "text": [
      "[[1 0]\n",
      " [0 1]]\n"
     ]
    }
   ],
   "source": [
    "q1 = np.array([[1,0],\n",
    "               [0,1]])\n",
    "\n",
    "print(q1)"
   ]
  },
  {
   "cell_type": "code",
   "execution_count": 18,
   "metadata": {},
   "outputs": [
    {
     "name": "stdout",
     "output_type": "stream",
     "text": [
      "[[0 1]\n",
      " [1 0]]\n"
     ]
    }
   ],
   "source": [
    "negacion_1 = np.dot(q1,x)\n",
    "print(negacion_1)"
   ]
  },
  {
   "cell_type": "code",
   "execution_count": 26,
   "metadata": {},
   "outputs": [
    {
     "name": "stdout",
     "output_type": "stream",
     "text": [
      "[[0.8660254 0.5      ]]\n"
     ]
    }
   ],
   "source": [
    "q2 = np.array([[np.sqrt(3)/2, 1/2]])\n",
    "print(q2)"
   ]
  },
  {
   "cell_type": "code",
   "execution_count": 27,
   "metadata": {},
   "outputs": [
    {
     "name": "stdout",
     "output_type": "stream",
     "text": [
      "[[0.5       0.8660254]]\n"
     ]
    }
   ],
   "source": [
    "negacion_2 = np.dot(q2,x)\n",
    "print(negacion_2)"
   ]
  },
  {
   "cell_type": "code",
   "execution_count": 28,
   "metadata": {},
   "outputs": [
    {
     "name": "stdout",
     "output_type": "stream",
     "text": [
      "[[0.5       0.8660254]]\n"
     ]
    }
   ],
   "source": [
    "q3 = np.array([[1/2,np.sqrt(3)/2]])\n",
    "print(q3)"
   ]
  },
  {
   "cell_type": "code",
   "execution_count": 29,
   "metadata": {},
   "outputs": [
    {
     "name": "stdout",
     "output_type": "stream",
     "text": [
      "[[0.8660254 0.5      ]]\n"
     ]
    }
   ],
   "source": [
    "negacion_3 = np.dot(q3,x)\n",
    "print(negacion_3)"
   ]
  },
  {
   "cell_type": "code",
   "execution_count": 32,
   "metadata": {},
   "outputs": [
    {
     "name": "stdout",
     "output_type": "stream",
     "text": [
      "q1\n",
      "[[1 0]\n",
      " [0 1]]\n",
      "q2\n",
      "[[0 1]\n",
      " [1 0]]\n",
      "q3\n",
      "[[1 0]\n",
      " [0 1]]\n"
     ]
    }
   ],
   "source": [
    "q1 = np.array([[1,0],\n",
    "               [0,1]])\n",
    "\n",
    "print(\"q1\")\n",
    "print(q1)\n",
    "\n",
    "q2 = np.dot(q1,x)\n",
    "q3 = np.dot(q2,x)\n",
    "\n",
    "print(\"q2\")\n",
    "print(q2)\n",
    "print(\"q3\")\n",
    "print(q3)"
   ]
  },
  {
   "cell_type": "code",
   "execution_count": 33,
   "metadata": {},
   "outputs": [
    {
     "name": "stdout",
     "output_type": "stream",
     "text": [
      "q1\n",
      "[[1 0]\n",
      " [0 1]]\n",
      "q2\n",
      "[[0 1]\n",
      " [1 0]]\n",
      "q3\n",
      "[[1 0]\n",
      " [0 1]]\n",
      "q4\n",
      "[[0 1]\n",
      " [1 0]]\n"
     ]
    }
   ],
   "source": [
    "q1 = np.array([[1,0],\n",
    "               [0,1]])\n",
    "\n",
    "print(\"q1\")\n",
    "print(q1)\n",
    "\n",
    "q2 = np.dot(q1,x)\n",
    "q3 = np.dot(q2,x)\n",
    "q4 = np.dot(q3,x)\n",
    "\n",
    "print(\"q2\")\n",
    "print(q2)\n",
    "print(\"q3\")\n",
    "print(q3)\n",
    "print(\"q4\")\n",
    "print(q4)"
   ]
  },
  {
   "cell_type": "code",
   "execution_count": 39,
   "metadata": {},
   "outputs": [
    {
     "name": "stdout",
     "output_type": "stream",
     "text": [
      "q1\n",
      "[[1 0]\n",
      " [0 1]]\n",
      "q2\n",
      "[[0 1]\n",
      " [1 0]]\n",
      "q3\n",
      "[[ 0 -1]\n",
      " [ 1  0]]\n"
     ]
    }
   ],
   "source": [
    "q1 = np.array([[1,0],\n",
    "               [0,1]])\n",
    "\n",
    "print(\"q1\")\n",
    "print(q1)\n",
    "\n",
    "q2 = np.dot(q1,x)\n",
    "q3 = np.dot(q2,z)\n",
    "\n",
    "print(\"q2\")\n",
    "print(q2)\n",
    "print(\"q3\")\n",
    "print(q3)"
   ]
  },
  {
   "cell_type": "code",
   "execution_count": 38,
   "metadata": {},
   "outputs": [
    {
     "name": "stdout",
     "output_type": "stream",
     "text": [
      "q1\n",
      "[[1 0]\n",
      " [0 1]]\n",
      "q2\n",
      "[[1.         0.        ]\n",
      " [0.         0.78539816]]\n"
     ]
    }
   ],
   "source": [
    "q1 = np.array([[1,0],\n",
    "               [0,1]])\n",
    "\n",
    "print(\"q1\")\n",
    "print(q1)\n",
    "\n",
    "q2 = np.dot(q1,t)\n",
    "\n",
    "print(\"q2\")\n",
    "print(q2)"
   ]
  },
  {
   "cell_type": "code",
   "execution_count": 40,
   "metadata": {},
   "outputs": [
    {
     "name": "stdout",
     "output_type": "stream",
     "text": [
      "[[1 0]\n",
      " [1 0]]\n"
     ]
    }
   ],
   "source": [
    "q1 = np.array([[1,0],\n",
    "               [1,0]])\n",
    "\n",
    "print(q1)"
   ]
  }
 ],
 "metadata": {
  "kernelspec": {
   "display_name": "cwq",
   "language": "python",
   "name": "python3"
  },
  "language_info": {
   "codemirror_mode": {
    "name": "ipython",
    "version": 3
   },
   "file_extension": ".py",
   "mimetype": "text/x-python",
   "name": "python",
   "nbconvert_exporter": "python",
   "pygments_lexer": "ipython3",
   "version": "3.12.4"
  }
 },
 "nbformat": 4,
 "nbformat_minor": 2
}
