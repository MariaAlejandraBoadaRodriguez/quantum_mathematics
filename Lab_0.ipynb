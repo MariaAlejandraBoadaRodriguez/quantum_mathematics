{
 "cells": [
  {
   "cell_type": "code",
   "execution_count": 40,
   "metadata": {},
   "outputs": [
    {
     "data": {
      "text/plain": [
       "'1.1.1'"
      ]
     },
     "execution_count": 40,
     "metadata": {},
     "output_type": "execute_result"
    }
   ],
   "source": [
    "import qiskit\n",
    "qiskit.__version__"
   ]
  },
  {
   "cell_type": "code",
   "execution_count": 41,
   "metadata": {},
   "outputs": [],
   "source": [
    "import qiskit\n",
    "from qiskit import QuantumCircuit, QuantumRegister\n",
    "from qiskit.visualization import plot_bloch_multivector\n",
    "from qiskit.quantum_info import Statevector\n"
   ]
  },
  {
   "cell_type": "code",
   "execution_count": 42,
   "metadata": {},
   "outputs": [
    {
     "name": "stdout",
     "output_type": "stream",
     "text": [
      "     ┌───┐┌─┐                     \n",
      "q_0: ┤ H ├┤M├─────────────────────\n",
      "     ├───┤└╥┘┌─┐                  \n",
      "q_1: ┤ H ├─╫─┤M├──────────────────\n",
      "     ├───┤ ║ └╥┘┌─┐               \n",
      "q_2: ┤ H ├─╫──╫─┤M├───────────────\n",
      "     ├───┤ ║  ║ └╥┘┌─┐            \n",
      "q_3: ┤ H ├─╫──╫──╫─┤M├────────────\n",
      "     ├───┤ ║  ║  ║ └╥┘┌─┐         \n",
      "q_4: ┤ H ├─╫──╫──╫──╫─┤M├─────────\n",
      "     ├───┤ ║  ║  ║  ║ └╥┘┌─┐      \n",
      "q_5: ┤ H ├─╫──╫──╫──╫──╫─┤M├──────\n",
      "     ├───┤ ║  ║  ║  ║  ║ └╥┘┌─┐   \n",
      "q_6: ┤ H ├─╫──╫──╫──╫──╫──╫─┤M├───\n",
      "     ├───┤ ║  ║  ║  ║  ║  ║ └╥┘┌─┐\n",
      "q_7: ┤ H ├─╫──╫──╫──╫──╫──╫──╫─┤M├\n",
      "     └───┘ ║  ║  ║  ║  ║  ║  ║ └╥┘\n",
      "c: 8/══════╩══╩══╩══╩══╩══╩══╩══╩═\n",
      "           0  1  2  3  4  5  6  7 \n"
     ]
    }
   ],
   "source": [
    "qr0 = qiskit.QuantumRegister(8,'q')\n",
    "cr0 = qiskit.ClassicalRegister(8, 'c')\n",
    "qc0 = qiskit.QuantumCircuit(qr0, cr0)\n",
    "\n",
    "hint: qc0.h(qr0)\n",
    "\n",
    "qc0.measure(qr0, cr0)\n",
    "print(qc0.draw())\n",
    "\n"
   ]
  }
 ],
 "metadata": {
  "kernelspec": {
   "display_name": "cwq",
   "language": "python",
   "name": "python3"
  },
  "language_info": {
   "codemirror_mode": {
    "name": "ipython",
    "version": 3
   },
   "file_extension": ".py",
   "mimetype": "text/x-python",
   "name": "python",
   "nbconvert_exporter": "python",
   "pygments_lexer": "ipython3",
   "version": "3.12.4"
  }
 },
 "nbformat": 4,
 "nbformat_minor": 2
}
