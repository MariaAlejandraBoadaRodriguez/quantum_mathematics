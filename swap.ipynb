{
 "cells": [
  {
   "cell_type": "code",
   "execution_count": 110,
   "metadata": {},
   "outputs": [
    {
     "name": "stdout",
     "output_type": "stream",
     "text": [
      "0.15.0\n",
      "1.1.1\n"
     ]
    }
   ],
   "source": [
    "import qiskit\n",
    "import qiskit_aer\n",
    "print(qiskit_aer.__version__)\n",
    "print(qiskit.__version__)\n",
    "import numpy as np"
   ]
  },
  {
   "cell_type": "code",
   "execution_count": 134,
   "metadata": {},
   "outputs": [
    {
     "name": "stdout",
     "output_type": "stream",
     "text": [
      "Matriz X\n",
      "[[0 1]\n",
      " [1 0]]\n",
      "\n",
      "Matriz Y\n",
      "[[ 0.+0.j -0.-1.j]\n",
      " [ 0.+1.j  0.+0.j]]\n",
      "\n",
      "Matriz Z\n",
      "[[ 1  0]\n",
      " [ 0 -1]]\n",
      "\n",
      "Matriz H\n",
      "[[ 0.70710678  0.70710678]\n",
      " [ 0.70710678 -0.70710678]]\n",
      "\n",
      "Matriz I\n",
      "[[1 0]\n",
      " [0 1]]\n",
      "\n"
     ]
    }
   ],
   "source": [
    "# Matriz X (compuerta Pauli-X)\n",
    "x = np.array([[0, 1], \n",
    "              [1, 0]])\n",
    "\n",
    "# Matriz Y (compuerta Pauli-Y)\n",
    "y = np.array([[0, -1j], \n",
    "              [1j, 0]])\n",
    "\n",
    "# Matriz Z (compuerta Pauli-Z)\n",
    "z = np.array([[1, 0], \n",
    "              [0, -1]])\n",
    "\n",
    "# Matriz Hadamar\n",
    "h = 1/np.sqrt(2)*np.array([[1,1],\n",
    "                           [1,-1]]) \n",
    "\n",
    "# Matriz I (compuerta Pauli-Z)\n",
    "i = np.array([[1, 0], \n",
    "              [0, 1]])\n",
    "\n",
    "# Matriz SWAP \n",
    "swap = np.array([[1, 0, 0, 0], \n",
    "                 [0, 0, 1, 0], \n",
    "                 [0, 1, 0, 0], \n",
    "                 [0, 0, 0, 1],],)\n",
    "\n",
    "# Matriz CNOT \n",
    "cnot = np.array([[1, 0, 0, 0], \n",
    "                 [0, 1, 0, 0], \n",
    "                 [0, 0, 0, 1], \n",
    "                 [0, 0, 1, 0],],)\n",
    "\n",
    "print(\"Matriz X\")\n",
    "print(x)\n",
    "print('')\n",
    "print(\"Matriz Y\")\n",
    "print(y)\n",
    "print('')\n",
    "print(\"Matriz Z\")\n",
    "print(z)\n",
    "print('')\n",
    "print(\"Matriz H\")\n",
    "print(h)\n",
    "print('')\n",
    "print(\"Matriz I\")\n",
    "print(i)\n",
    "print('')"
   ]
  },
  {
   "cell_type": "code",
   "execution_count": 135,
   "metadata": {},
   "outputs": [
    {
     "name": "stdout",
     "output_type": "stream",
     "text": [
      "Matriz SWAP\n",
      "[[1 0 0 0]\n",
      " [0 0 1 0]\n",
      " [0 1 0 0]\n",
      " [0 0 0 1]]\n",
      "\n",
      "Matriz CNOT\n",
      "[[1 0 0 0]\n",
      " [0 1 0 0]\n",
      " [0 0 0 1]\n",
      " [0 0 1 0]]\n"
     ]
    }
   ],
   "source": [
    "print(\"Matriz SWAP\")\n",
    "print(swap)\n",
    "print('')\n",
    "print(\"Matriz CNOT\")\n",
    "print(cnot)"
   ]
  },
  {
   "cell_type": "code",
   "execution_count": 132,
   "metadata": {},
   "outputs": [
    {
     "name": "stdout",
     "output_type": "stream",
     "text": [
      "Qbit 0 con estado 0 = 1(0) 0(1)\n",
      "[[1]\n",
      " [0]]\n",
      "\n",
      "Qbit 1 con estado 1 = 0(0) 1(0)\n",
      "[[0]\n",
      " [1]]\n",
      "\n",
      "\n",
      "Producto tensorial de 1(0) 0(1) * 1(0) 0(1) = 1(00) 0(01) 0(10) 0(11) = 00\n",
      "[1 0 0 0]\n",
      "\n",
      "Producto tensorial de 1(0) 0(1) * 0(0) 1(1) = 0(00) 1(01) 0(10) 0(11) = 01\n",
      "[0 1 0 0]\n",
      "\n",
      "Producto tensorial de 0(0) 1(1) * 1(0) 0(1) = 0(00) 0(01) 1(10) 0(11) = 10\n",
      "[0 0 1 0]\n",
      "\n",
      "Producto tensorial de 0(0) 1(1) * 0(0) 1(1) = 0(00) 0(01) 0(10) 1(11) = 11\n",
      "[0 0 0 1]\n",
      "\n",
      "Producto tensorial de 1/2(0) raiz(3)/2(1) * 1(0) 0(1) = 1/2(00) 0(01) raiz(3)/2(10) 0(11)\n",
      "[0.70710678 0.         0.70710678 0.        ]\n",
      "\n",
      "Producto tensorial de 1/2(0) raiz(3)/2(1) * 0(0) 1(1) = 0(00) 1/2(01) 0(10) raiz(3)/2(11)\n",
      "[0.         0.70710678 0.         0.70710678]\n"
     ]
    }
   ],
   "source": [
    "# Qbit 0 con estado 0\n",
    "print('Qbit 0 con estado 0 = 1(0) 0(1)')\n",
    "q0 = np.array([[1],\n",
    "               [0]])\n",
    "print(q0)\n",
    "print('')\n",
    "\n",
    "# Qbit 1 con estado 1\n",
    "print('Qbit 1 con estado 1 = 0(0) 1(0)')\n",
    "q1 = np.array([[0],\n",
    "               [1]])\n",
    "print(q1)\n",
    "print('')\n",
    "\n",
    "# Producto tensorial de q0 y q0\n",
    "print('')\n",
    "print('Producto tensorial de 1(0) 0(1) * 1(0) 0(1) = 1(00) 0(01) 0(10) 0(11) = 00')\n",
    "q0q1 = np.kron(q0, q0)\n",
    "q0q1_vector_00 = q0q1.flatten()\n",
    "print(q0q1_vector_00)\n",
    "\n",
    "# Producto tensorial de q0 y q1\n",
    "print('')\n",
    "print('Producto tensorial de 1(0) 0(1) * 0(0) 1(1) = 0(00) 1(01) 0(10) 0(11) = 01')\n",
    "q0q1 = np.kron(q0, q1)\n",
    "q0q1_vector_01 = q0q1.flatten()\n",
    "print(q0q1_vector_01)\n",
    "\n",
    "# Producto tensorial de q1 y q0\n",
    "print('')\n",
    "print('Producto tensorial de 0(0) 1(1) * 1(0) 0(1) = 0(00) 0(01) 1(10) 0(11) = 10')\n",
    "q0q1 = np.kron(q1, q0)\n",
    "q0q1_vector_10 = q0q1.flatten()\n",
    "print(q0q1_vector_10)\n",
    "\n",
    "\n",
    "# Producto tensorial de q1 y q1\n",
    "print('')\n",
    "print('Producto tensorial de 0(0) 1(1) * 0(0) 1(1) = 0(00) 0(01) 0(10) 1(11) = 11')\n",
    "q0q1 = np.kron(q1, q1)\n",
    "q0q1_vector_11 = q0q1.flatten()\n",
    "print(q0q1_vector_11)\n",
    "\n",
    "# Producto tensorial de q0 (Hadamar) y q0\n",
    "print('')\n",
    "print('Producto tensorial de 1/2(0) raiz(3)/2(1) * 1(0) 0(1) = 1/2(00) 0(01) raiz(3)/2(10) 0(11)')\n",
    "q0h = np.dot(h, q0)\n",
    "q0q1 = np.kron(q0h, q0)\n",
    "q0q1_vector_h0 = q0q1.flatten()\n",
    "print(q0q1_vector_h0)\n",
    "\n",
    "# Producto tensorial de q0 (Hadamar) y q1\n",
    "print('')\n",
    "print('Producto tensorial de 1/2(0) raiz(3)/2(1) * 0(0) 1(1) = 0(00) 1/2(01) 0(10) raiz(3)/2(11)')\n",
    "q0h = np.dot(h, q0)\n",
    "q0q1 = np.kron(q0h, q1)\n",
    "q0q1_vector_h1 = q0q1.flatten()\n",
    "print(q0q1_vector_h1)\n",
    "\n"
   ]
  },
  {
   "cell_type": "code",
   "execution_count": 140,
   "metadata": {},
   "outputs": [
    {
     "name": "stdout",
     "output_type": "stream",
     "text": [
      "Estado 00 * SWAP = 00\n",
      "[1 0 0 0]\n",
      "\n",
      "Estado 01 * SWAP = 10\n",
      "[0 0 1 0]\n",
      "\n",
      "Estado 10 * SWAP = 01\n",
      "[0 1 0 0]\n",
      "\n",
      "Estado 11 * SWAP = 11\n",
      "[0 0 0 1]\n"
     ]
    }
   ],
   "source": [
    "resultado_swap_00 = np.dot(swap, q0q1_vector_00)\n",
    "resultado_swap_01 = np.dot(swap, q0q1_vector_01)\n",
    "resultado_swap_10 = np.dot(swap, q0q1_vector_10)\n",
    "resultado_swap_11 = np.dot(swap, q0q1_vector_11)\n",
    "\n",
    "print('Estado 00 * SWAP = 00')\n",
    "print(resultado_swap_00)\n",
    "print('')\n",
    "print('Estado 01 * SWAP = 10')\n",
    "print(resultado_swap_01)\n",
    "print('')\n",
    "print('Estado 10 * SWAP = 01')\n",
    "print(resultado_swap_10)\n",
    "print('')\n",
    "print('Estado 11 * SWAP = 11')\n",
    "print(resultado_swap_11)"
   ]
  },
  {
   "cell_type": "code",
   "execution_count": 147,
   "metadata": {},
   "outputs": [
    {
     "name": "stdout",
     "output_type": "stream",
     "text": [
      "Qbit 1 en superposicion\n",
      "[[0.70710678]\n",
      " [0.70710678]]\n",
      "\n",
      "Qbit 2 en estado 0\n",
      "[[1]\n",
      " [0]]\n",
      "\n",
      "Estados de entrada de los 2 qbits\n",
      "[[0.70710678]\n",
      " [0.        ]\n",
      " [0.70710678]\n",
      " [0.        ]]\n",
      "\n",
      "Aplico una puerta Swap\n",
      "[[0.70710678]\n",
      " [0.70710678]\n",
      " [0.        ]\n",
      " [0.        ]]\n"
     ]
    }
   ],
   "source": [
    "estado_entrada_1 = np.array([[1/np.sqrt(2)],\n",
    "                             [1/np.sqrt(2)]]) \n",
    "print('Qbit 1 en superposicion')\n",
    "print(estado_entrada_1)\n",
    "print('')\n",
    "print('Qbit 2 en estado 0')\n",
    "estado_entrada_2 = q0\n",
    "print(estado_entrada_2)\n",
    "\n",
    "print('')\n",
    "print('Estados de entrada de los 2 qbits')\n",
    "estado_entrada_total = np.kron( estado_entrada_1, estado_entrada_2)\n",
    "print(estado_entrada_total)\n",
    "\n",
    "print('')\n",
    "print('Aplico una puerta Swap')\n",
    "estado_final = np.dot(swap, estado_entrada_total)\n",
    "print(estado_final)"
   ]
  },
  {
   "cell_type": "code",
   "execution_count": 148,
   "metadata": {},
   "outputs": [
    {
     "name": "stdout",
     "output_type": "stream",
     "text": [
      "Qbit 1 en superposicion\n",
      "[[0.5      ]\n",
      " [0.8660254]]\n",
      "\n",
      "Qbit 2 en estado 1\n",
      "[[0]\n",
      " [1]]\n",
      "\n",
      "Estados de entrada de los 2 qbits\n",
      "[[0.       ]\n",
      " [0.5      ]\n",
      " [0.       ]\n",
      " [0.8660254]]\n",
      "\n",
      "Aplico una puerta Swap\n",
      "[[0.       ]\n",
      " [0.       ]\n",
      " [0.5      ]\n",
      " [0.8660254]]\n"
     ]
    }
   ],
   "source": [
    "estado_entrada_1 = np.array([[1/2],\n",
    "                             [np.sqrt(3)/2]]) \n",
    "print('Qbit 1 en superposicion')\n",
    "print(estado_entrada_1)\n",
    "print('')\n",
    "print('Qbit 2 en estado 1')\n",
    "estado_entrada_2 = q1\n",
    "print(estado_entrada_2)\n",
    "\n",
    "print('')\n",
    "print('Estados de entrada de los 2 qbits')\n",
    "estado_entrada_total = np.kron( estado_entrada_1, estado_entrada_2)\n",
    "print(estado_entrada_total)\n",
    "\n",
    "print('')\n",
    "print('Aplico una puerta Swap')\n",
    "estado_final = np.dot(swap, estado_entrada_total)\n",
    "print(estado_final)"
   ]
  },
  {
   "cell_type": "code",
   "execution_count": 156,
   "metadata": {},
   "outputs": [
    {
     "name": "stdout",
     "output_type": "stream",
     "text": [
      "Qbit 1 en estado 1\n",
      "[[0]\n",
      " [1]]\n",
      "\n",
      "Qbit 2 en estado 0\n",
      "[[1]\n",
      " [0]]\n",
      "\n",
      "Producto tensorial de 0(0)1(1) * 1(0)0(1) = 0(00) 0(01) 1(10) 0(11) = 10\n",
      "[[0]\n",
      " [0]\n",
      " [1]\n",
      " [0]]\n",
      "\n",
      "Aplico una puerta CNOT = 0(00) 0(01) 0(10) 1(11) = 11\n",
      "[[0]\n",
      " [0]\n",
      " [0]\n",
      " [1]]\n"
     ]
    }
   ],
   "source": [
    "estado_entrada_1 = q1\n",
    "print('Qbit 1 en estado 1')\n",
    "print(estado_entrada_1)\n",
    "print('')\n",
    "estado_entrada_2 = q0\n",
    "print('Qbit 2 en estado 0')\n",
    "print(estado_entrada_2)\n",
    "\n",
    "print('')\n",
    "print('Producto tensorial de 0(0)1(1) * 1(0)0(1) = 0(00) 0(01) 1(10) 0(11) = 10')\n",
    "estado_entrada_total = np.kron( estado_entrada_1, estado_entrada_2)\n",
    "print(estado_entrada_total)\n",
    "\n",
    "print('')\n",
    "print('Aplico una puerta CNOT = 0(00) 0(01) 0(10) 1(11) = 11')\n",
    "estado_final = np.dot(cnot, estado_entrada_total)\n",
    "print(estado_final)"
   ]
  },
  {
   "cell_type": "code",
   "execution_count": 159,
   "metadata": {},
   "outputs": [
    {
     "name": "stdout",
     "output_type": "stream",
     "text": [
      "Estado 00 * CNOT = 00\n",
      "[1 0 0 0]\n",
      "\n",
      "Estado 01 * CNOT = 01\n",
      "[0 1 0 0]\n",
      "\n",
      "Estado 10 * CNOT = 11\n",
      "[0 0 0 1]\n",
      "\n",
      "Estado 11 * CNOT = 10\n",
      "[0 0 1 0]\n"
     ]
    }
   ],
   "source": [
    "# CNOT\n",
    "resultado_cnot_00 = np.dot(cnot, q0q1_vector_00)\n",
    "resultado_cnot_01 = np.dot(cnot, q0q1_vector_01)\n",
    "resultado_cnot_10 = np.dot(cnot, q0q1_vector_10)\n",
    "resultado_cnot_11 = np.dot(cnot, q0q1_vector_11)\n",
    "\n",
    "print('Estado 00 * CNOT = 00')\n",
    "print(resultado_cnot_00)\n",
    "print('')\n",
    "print('Estado 01 * CNOT = 01')\n",
    "print(resultado_cnot_01)\n",
    "print('')\n",
    "print('Estado 10 * CNOT = 11')\n",
    "print(resultado_cnot_10)\n",
    "print('')\n",
    "print('Estado 11 * CNOT = 10')\n",
    "print(resultado_cnot_11)"
   ]
  },
  {
   "cell_type": "code",
   "execution_count": 162,
   "metadata": {},
   "outputs": [
    {
     "name": "stdout",
     "output_type": "stream",
     "text": [
      "Qbit 1 en superposicion\n",
      "[[0.70710678]\n",
      " [0.70710678]]\n",
      "\n",
      "Qbit 2 en estado 0\n",
      "[[1]\n",
      " [0]]\n",
      "\n",
      "Estados de entrada de los 2 qbits\n",
      "[[0.70710678]\n",
      " [0.        ]\n",
      " [0.70710678]\n",
      " [0.        ]]\n",
      "\n",
      "Aplico una puerta CNOT\n",
      "[[0.70710678]\n",
      " [0.        ]\n",
      " [0.        ]\n",
      " [0.70710678]]\n"
     ]
    }
   ],
   "source": [
    "# CNOT CON SUPERPOSICION\n",
    "estado_entrada_1 = np.array([[1/np.sqrt(2)],\n",
    "                             [1/np.sqrt(2)]]) \n",
    "print('Qbit 1 en superposicion')\n",
    "print(estado_entrada_1)\n",
    "print('')\n",
    "print('Qbit 2 en estado 0')\n",
    "estado_entrada_2 = q0\n",
    "print(estado_entrada_2)\n",
    "\n",
    "print('')\n",
    "print('Estados de entrada de los 2 qbits')\n",
    "estado_entrada_total = np.kron( estado_entrada_1, estado_entrada_2)\n",
    "print(estado_entrada_total)\n",
    "\n",
    "print('')\n",
    "print('Aplico una puerta CNOT')\n",
    "estado_final = np.dot(cnot, estado_entrada_total)\n",
    "print(estado_final)"
   ]
  },
  {
   "cell_type": "code",
   "execution_count": 163,
   "metadata": {},
   "outputs": [
    {
     "name": "stdout",
     "output_type": "stream",
     "text": [
      "Qbit 1 en superposicion\n",
      "[[0.5      ]\n",
      " [0.8660254]]\n",
      "\n",
      "Qbit 2 en estado 1\n",
      "[[0]\n",
      " [1]]\n",
      "\n",
      "Estados de entrada de los 2 qbits\n",
      "[[0.       ]\n",
      " [0.5      ]\n",
      " [0.       ]\n",
      " [0.8660254]]\n",
      "\n",
      "Aplico una puerta CNOT\n",
      "[[0.       ]\n",
      " [0.5      ]\n",
      " [0.8660254]\n",
      " [0.       ]]\n"
     ]
    }
   ],
   "source": [
    "estado_entrada_1 = np.array([[1/2],\n",
    "                             [np.sqrt(3)/2]]) \n",
    "print('Qbit 1 en superposicion')\n",
    "print(estado_entrada_1)\n",
    "print('')\n",
    "print('Qbit 2 en estado 1')\n",
    "estado_entrada_2 = q1\n",
    "print(estado_entrada_2)\n",
    "\n",
    "print('')\n",
    "print('Estados de entrada de los 2 qbits')\n",
    "estado_entrada_total = np.kron( estado_entrada_1, estado_entrada_2)\n",
    "print(estado_entrada_total)\n",
    "\n",
    "print('')\n",
    "print('Aplico una puerta CNOT')\n",
    "estado_final = np.dot(cnot, estado_entrada_total)\n",
    "print(estado_final)"
   ]
  },
  {
   "cell_type": "code",
   "execution_count": 105,
   "metadata": {},
   "outputs": [
    {
     "name": "stdout",
     "output_type": "stream",
     "text": [
      "q0 = Compuerta Hadamar\n",
      "[[0.70710678]\n",
      " [0.70710678]]\n",
      "q1 = Estado 0\n",
      "[[1]\n",
      " [0]]\n",
      "q3 = Resultado de los estados separados\n",
      "[[0.70710678]\n",
      " [0.        ]\n",
      " [0.70710678]\n",
      " [0.        ]]\n",
      "q4 = Se aplica puerta CNOT\n",
      "[[0.70710678]\n",
      " [0.        ]\n",
      " [0.        ]\n",
      " [0.70710678]]\n"
     ]
    }
   ],
   "source": [
    "# Entanglement q0(Hadamar) y q0\n",
    "\n",
    "q0_1 = np.dot(h, q0)\n",
    "print('q0 = Compuerta Hadamar')\n",
    "print(q0_1)\n",
    "\n",
    "q0_2 = q0\n",
    "print('q1 = Estado 0')\n",
    "print(q0_2)\n",
    "\n",
    "\n",
    "q3 = np.kron( q0_1, q0_2)\n",
    "print('q3 = Resultado de los estados separados')\n",
    "print(q3)\n",
    "\n",
    "\n",
    "q4 = np.dot(cnot, q3)\n",
    "print('q4 = Se aplica puerta CNOT')\n",
    "print(q4)"
   ]
  },
  {
   "cell_type": "code",
   "execution_count": 106,
   "metadata": {},
   "outputs": [
    {
     "name": "stdout",
     "output_type": "stream",
     "text": [
      "q0 = Compuerta Hadamar\n",
      "[[0.70710678]\n",
      " [0.70710678]]\n",
      "q1 = Estado 1\n",
      "[[0]\n",
      " [1]]\n",
      "q3 = Resultado de los estados separados\n",
      "[[0.        ]\n",
      " [0.70710678]\n",
      " [0.        ]\n",
      " [0.70710678]]\n",
      "q4 = Se aplica puerta CNOT\n",
      "[[0.        ]\n",
      " [0.70710678]\n",
      " [0.70710678]\n",
      " [0.        ]]\n"
     ]
    }
   ],
   "source": [
    "# Entanglement q0(Hadamar) y q1\n",
    "\n",
    "q0_1 = np.dot(h, q0)\n",
    "print('q0 = Compuerta Hadamar')\n",
    "print(q0_1)\n",
    "\n",
    "q0_2 = q1\n",
    "print('q1 = Estado 1')\n",
    "print(q0_2)\n",
    "\n",
    "\n",
    "q3 = np.kron( q0_1, q0_2)\n",
    "print('q3 = Resultado de los estados separados')\n",
    "print(q3)\n",
    "\n",
    "\n",
    "q4 = np.dot(cnot, q3)\n",
    "print('q4 = Se aplica puerta CNOT')\n",
    "print(q4)"
   ]
  },
  {
   "cell_type": "code",
   "execution_count": 107,
   "metadata": {},
   "outputs": [
    {
     "name": "stdout",
     "output_type": "stream",
     "text": [
      "q0 = Compuerta Hadamar\n",
      "[[ 0.70710678]\n",
      " [-0.70710678]]\n",
      "q1 = Estado 0\n",
      "[[1]\n",
      " [0]]\n",
      "q3 = Resultado de los estados separados\n",
      "[[ 0.70710678]\n",
      " [ 0.        ]\n",
      " [-0.70710678]\n",
      " [-0.        ]]\n",
      "q4 = Se aplica puerta CNOT\n",
      "[[ 0.70710678]\n",
      " [ 0.        ]\n",
      " [ 0.        ]\n",
      " [-0.70710678]]\n"
     ]
    }
   ],
   "source": [
    "# Entanglement q1(Hadamar) y q0\n",
    "\n",
    "q0_1 = np.dot(h, q1)\n",
    "print('q0 = Compuerta Hadamar')\n",
    "print(q0_1)\n",
    "\n",
    "q0_2 = q0\n",
    "print('q1 = Estado 0')\n",
    "print(q0_2)\n",
    "\n",
    "\n",
    "q3 = np.kron( q0_1, q0_2)\n",
    "print('q3 = Resultado de los estados separados')\n",
    "print(q3)\n",
    "\n",
    "\n",
    "q4 = np.dot(cnot, q3)\n",
    "print('q4 = Se aplica puerta CNOT')\n",
    "print(q4)"
   ]
  },
  {
   "cell_type": "code",
   "execution_count": 108,
   "metadata": {},
   "outputs": [
    {
     "name": "stdout",
     "output_type": "stream",
     "text": [
      "q0 = Compuerta Hadamar\n",
      "[[ 0.70710678]\n",
      " [-0.70710678]]\n",
      "q1 = Estado 1\n",
      "[[0]\n",
      " [1]]\n",
      "q3 = Resultado de los estados separados\n",
      "[[ 0.        ]\n",
      " [ 0.70710678]\n",
      " [-0.        ]\n",
      " [-0.70710678]]\n",
      "q4 = Se aplica puerta CNOT\n",
      "[[ 0.        ]\n",
      " [ 0.70710678]\n",
      " [-0.70710678]\n",
      " [ 0.        ]]\n"
     ]
    }
   ],
   "source": [
    "# Entanglement q1(Hadamar) y q1\n",
    "\n",
    "q0_1 = np.dot(h, q1)\n",
    "print('q0 = Compuerta Hadamar')\n",
    "print(q0_1)\n",
    "\n",
    "q0_2 = q1\n",
    "print('q1 = Estado 1')\n",
    "print(q0_2)\n",
    "\n",
    "\n",
    "q3 = np.kron( q0_1, q0_2)\n",
    "print('q3 = Resultado de los estados separados')\n",
    "print(q3)\n",
    "\n",
    "\n",
    "q4 = np.dot(cnot, q3)\n",
    "print('q4 = Se aplica puerta CNOT')\n",
    "print(q4)"
   ]
  },
  {
   "cell_type": "markdown",
   "metadata": {},
   "source": [
    "# Matriz Input y Output"
   ]
  },
  {
   "cell_type": "code",
   "execution_count": 184,
   "metadata": {},
   "outputs": [
    {
     "name": "stdout",
     "output_type": "stream",
     "text": [
      "\n",
      "Entrada 1 en estado 0\n",
      "[[1]\n",
      " [0]]\n",
      "\n",
      "Entrada 2 en estado 0\n",
      "[[1]\n",
      " [0]]\n",
      "\n",
      "Entrada 3 en estado 0\n",
      "[[1]\n",
      " [0]]\n",
      "\n",
      "Estados de entrada de los 3 qbits -> Input(000) Output(000)\n",
      "\n",
      "1(000) 0(001) 0(010) 0(011) 0(100) 0(101) 0(110) 0(111)\n",
      "\n",
      "[1 0 0 0 0 0 0 0]\n"
     ]
    }
   ],
   "source": [
    "# INPUT  0 0 0 \n",
    "# OUTPUT 0 0 0\n",
    "\n",
    "entrada_1 = q0\n",
    "print('')\n",
    "print('Entrada 1 en estado 0')\n",
    "print(entrada_1)\n",
    "\n",
    "entrada_2 = q0\n",
    "print('')\n",
    "print('Entrada 2 en estado 0')\n",
    "print(entrada_2)\n",
    "\n",
    "estado_entrada_1_2 = np.kron(entrada_1, entrada_2)\n",
    "\n",
    "entrada_3 = q0\n",
    "print('')\n",
    "print('Entrada 3 en estado 0')\n",
    "print(entrada_3)\n",
    "\n",
    "print('')\n",
    "print('Estados de entrada de los 3 qbits -> Input(000) Output(000)')\n",
    "print('')\n",
    "print('1(000) 0(001) 0(010) 0(011) 0(100) 0(101) 0(110) 0(111)')\n",
    "print('')\n",
    "estado_entrada_total = np.kron(estado_entrada_1_2, entrada_3)\n",
    "estado_entrada_total_vector = estado_entrada_total.flatten()\n",
    "print(estado_entrada_total_vector)"
   ]
  }
 ],
 "metadata": {
  "kernelspec": {
   "display_name": "cwq",
   "language": "python",
   "name": "python3"
  },
  "language_info": {
   "codemirror_mode": {
    "name": "ipython",
    "version": 3
   },
   "file_extension": ".py",
   "mimetype": "text/x-python",
   "name": "python",
   "nbconvert_exporter": "python",
   "pygments_lexer": "ipython3",
   "version": "3.12.4"
  }
 },
 "nbformat": 4,
 "nbformat_minor": 2
}
