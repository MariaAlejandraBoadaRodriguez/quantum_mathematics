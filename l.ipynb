{
 "cells": [
  {
   "cell_type": "code",
   "execution_count": 2,
   "metadata": {},
   "outputs": [
    {
     "data": {
      "text/plain": [
       "'1.1.1'"
      ]
     },
     "execution_count": 2,
     "metadata": {},
     "output_type": "execute_result"
    }
   ],
   "source": [
    "import qiskit\n",
    "qiskit.__version__"
   ]
  },
  {
   "cell_type": "code",
   "execution_count": 3,
   "metadata": {},
   "outputs": [],
   "source": [
    "from qiskit.circuit import QuantumCircuit, ClassicalRegister, QuantumRegister\n",
    "from qiskit.circuit.classical import expr, types\n",
    " \n",
    "qr = QuantumRegister(2, \"q\")\n",
    "cr = ClassicalRegister(2, \"c\")\n",
    "qc = QuantumCircuit(qr, cr)\n",
    "# Add two input variables to the circuit with different types.\n",
    "a = qc.add_input(\"a\", types.Bool())\n",
    "mask = qc.add_input(\"mask\", types.Uint(2))\n",
    " \n",
    "# Test whether the input variable was true at runtime.\n",
    "with qc.if_test(a) as else_:\n",
    "    qc.x(0)\n",
    "with else_:\n",
    "    qc.h(0)\n",
    " \n",
    "qc.cx(0, 1)\n",
    "qc.measure(qr, cr)\n",
    " \n",
    "# Add a typed variable manually, initialized to the same value as the classical register.\n",
    "b = qc.add_var(\"b\", expr.lift(cr))\n",
    " \n",
    "qc.reset([0, 1])\n",
    "qc.h(0)\n",
    "qc.cx(0, 1)\n",
    "qc.measure(qr, cr)\n",
    " \n",
    "# Store some calculated value into the `b` variable.\n",
    "qc.store(b, expr.bit_and(b, cr))\n",
    "# Test whether we had equality, up to a mask.\n",
    "with qc.if_test(expr.equal(expr.bit_and(b, mask), mask)):\n",
    "    qc.x(0)"
   ]
  },
  {
   "cell_type": "code",
   "execution_count": 4,
   "metadata": {},
   "outputs": [
    {
     "name": "stdout",
     "output_type": "stream",
     "text": [
      "> Expectation value: 0.0674\n",
      "> Standard error: 0.009977260345405446\n",
      "> Metadata: {'target_precision': 0.01}\n"
     ]
    },
    {
     "name": "stderr",
     "output_type": "stream",
     "text": [
      "c:\\Users\\malej\\miniconda3\\envs\\cwq\\Lib\\site-packages\\qiskit\\providers\\fake_provider\\fake_backend.py:153: RuntimeWarning: Aer not found using BasicAer and no noise\n",
      "  warnings.warn(\"Aer not found using BasicAer and no noise\", RuntimeWarning)\n"
     ]
    }
   ],
   "source": [
    "import numpy as np\n",
    "from qiskit import transpile\n",
    "from qiskit.circuit.library import IQP\n",
    "from qiskit.primitives import BackendEstimatorV2\n",
    "from qiskit.providers.fake_provider import Fake7QPulseV1\n",
    "from qiskit.quantum_info import SparsePauliOp, random_hermitian\n",
    " \n",
    "backend = Fake7QPulseV1()\n",
    "estimator = BackendEstimatorV2(backend=backend)\n",
    "n_qubits = 5\n",
    "mat = np.real(random_hermitian(n_qubits, seed=1234))\n",
    "circuit = IQP(mat)\n",
    "observable = SparsePauliOp(\"Z\" * n_qubits)\n",
    "isa_circuit = transpile(circuit, backend=backend, optimization_level=1)\n",
    "isa_observable = observable.apply_layout(isa_circuit.layout)\n",
    "job = estimator.run([(isa_circuit, isa_observable)], precision=0.01)\n",
    "result = job.result()\n",
    "print(f\"> Expectation value: {result[0].data.evs}\")\n",
    "print(f\"> Standard error: {result[0].data.stds}\")\n",
    "print(f\"> Metadata: {result[0].metadata}\")"
   ]
  },
  {
   "cell_type": "code",
   "execution_count": 7,
   "metadata": {},
   "outputs": [
    {
     "name": "stdout",
     "output_type": "stream",
     "text": [
      "> bitstrings: ['01000', '00000', '00001', '00001', '00000', '01010', '01011', '00000', '00000', '00000', '00100', '01011', '00100', '01011', '01000', '00010', '01010', '01011', '11000', '00001', '00010', '00000', '00001', '01010', '11010', '01010', '11101', '01000', '00001', '00000', '00001', '01110', '01010', '11000', '01011', '00000', '00010', '00011', '01010', '00010', '00010', '00100', '11000', '11010', '00000', '00000', '00011', '01000', '11000', '00000', '00011', '00010', '01011', '00000', '01011', '01010', '00000', '11000', '01101', '11011', '00101', '00111', '00000', '01010', '01011', '00010', '01000', '00001', '01010', '00000', '00000', '00011', '10011', '00101', '01010', '00000', '00000', '00011', '00111', '00111', '01000', '00101', '00000', '01010', '00001', '00000', '00000', '00000', '01011', '01011', '00000', '11000', '01000', '01000', '00001', '01011', '01010', '01010', '00000', '00011']\n",
      "> counts: {'01000': 8, '00000': 24, '00001': 9, '01010': 13, '01011': 11, '00100': 3, '00010': 7, '11000': 6, '11010': 2, '11101': 1, '01110': 1, '00011': 6, '01101': 1, '11011': 1, '00101': 3, '00111': 3, '10011': 1}\n",
      "> Metadata: {}\n"
     ]
    }
   ],
   "source": [
    "import numpy as np\n",
    "from qiskit import transpile\n",
    "from qiskit.circuit.library import IQP\n",
    "from qiskit.primitives import BackendSamplerV2\n",
    "from qiskit.providers.fake_provider import Fake7QPulseV1\n",
    "from qiskit.quantum_info import random_hermitian\n",
    " \n",
    "backend = Fake7QPulseV1()\n",
    "sampler = BackendSamplerV2(backend=backend)\n",
    "n_qubits = 5\n",
    "mat = np.real(random_hermitian(n_qubits, seed=1234))\n",
    "circuit = IQP(mat)\n",
    "circuit.measure_all()\n",
    "isa_circuit = transpile(circuit, backend=backend, optimization_level=1)\n",
    "job = sampler.run([isa_circuit], shots=100)\n",
    "result = job.result()\n",
    "print(f\"> bitstrings: {result[0].data.meas.get_bitstrings()}\")\n",
    "print(f\"> counts: {result[0].data.meas.get_counts()}\")\n",
    "print(f\"> Metadata: {result[0].metadata}\")"
   ]
  }
 ],
 "metadata": {
  "kernelspec": {
   "display_name": "cwq",
   "language": "python",
   "name": "python3"
  },
  "language_info": {
   "codemirror_mode": {
    "name": "ipython",
    "version": 3
   },
   "file_extension": ".py",
   "mimetype": "text/x-python",
   "name": "python",
   "nbconvert_exporter": "python",
   "pygments_lexer": "ipython3",
   "version": "3.12.4"
  }
 },
 "nbformat": 4,
 "nbformat_minor": 2
}
